{
  "nbformat": 4,
  "nbformat_minor": 0,
  "metadata": {
    "colab": {
      "name": "Linear regression with single variable.ipynb",
      "provenance": [],
      "collapsed_sections": [],
      "toc_visible": true,
      "authorship_tag": "ABX9TyNZ30W04lL/IuNf2hIq/jTN",
      "include_colab_link": true
    },
    "kernelspec": {
      "name": "python3",
      "display_name": "Python 3"
    }
  },
  "cells": [
    {
      "cell_type": "markdown",
      "metadata": {
        "id": "view-in-github",
        "colab_type": "text"
      },
      "source": [
        "<a href=\"https://colab.research.google.com/github/vivek-goyal12/-13-may-/blob/master/Linear_regression_with_single_variable.ipynb\" target=\"_parent\"><img src=\"https://colab.research.google.com/assets/colab-badge.svg\" alt=\"Open In Colab\"/></a>"
      ]
    },
    {
      "cell_type": "code",
      "metadata": {
        "colab": {
          "base_uri": "https://localhost:8080/"
        },
        "id": "II3ID5bqUnQ4",
        "outputId": "4aa46da1-3104-4cae-e346-a9d63f2f1d07"
      },
      "source": [
        "#using sklearn library\r\n",
        "import numpy as np\r\n",
        "import pandas as pd\r\n",
        "from sklearn.linear_model import LinearRegression\r\n",
        "df = pd.read_csv(\"headbrain.csv\")\r\n",
        "X= df[\"Head Size(cm^3)\"]\r\n",
        "Y=df[\"Brain Weight(grams)\"]\r\n",
        "\r\n",
        "\r\n",
        "#X = np.array([171,151,124,134,156])\r\n",
        "#y = np.array([80,60,45,50,65])\r\n",
        "\r\n",
        "clf = LinearRegression()\r\n",
        "X = X.to_numpy()\r\n",
        "Y=Y.to_numpy()\r\n",
        "\r\n",
        "#print(X)\r\n",
        "#print(X.reshape(-1,1))\r\n",
        "\r\n",
        "clf.fit(X.reshape(-1,1),Y) # you want a COLUMN vector (many samples, 1 feature)\r\n",
        "\r\n",
        "a=clf.predict([[4512]])\r\n",
        "\r\n",
        "print(a)\r\n"
      ],
      "execution_count": null,
      "outputs": [
        {
          "output_type": "stream",
          "text": [
            "[1514.16660083]\n"
          ],
          "name": "stdout"
        }
      ]
    },
    {
      "cell_type": "markdown",
      "metadata": {
        "id": "bcaRvZ2ebkxT"
      },
      "source": [
        "### ***now finding intercept aand error(rmse) and effieciency(r2 score)*** *italicized text*"
      ]
    },
    {
      "cell_type": "code",
      "metadata": {
        "colab": {
          "base_uri": "https://localhost:8080/"
        },
        "id": "Y3KzNBQycI1Z",
        "outputId": "910f4261-f416-4eae-d41c-3db54b47f92f"
      },
      "source": [
        "import numpy as np\r\n",
        "import pandas as pd\r\n",
        "from sklearn.linear_model import LinearRegression\r\n",
        "from sklearn.metrics import mean_squared_error\r\n",
        "\r\n",
        "# Reading Data\r\n",
        "data = pd.read_csv('headbrain.csv')\r\n",
        "data.head()\r\n",
        "\r\n",
        "# Collecting X and Y\r\n",
        "X = data['Head Size(cm^3)'].values\r\n",
        "Y = data['Brain Weight(grams)'].values\r\n",
        "data.iloc[0:5,0:1]\r\n",
        "\r\n",
        "m = len(X)\r\n",
        "\r\n",
        "X = X.reshape((m, 1))\r\n",
        "\r\n",
        "# Model Intialization\r\n",
        "reg = LinearRegression()\r\n",
        "# Data Fitting\r\n",
        "reg = reg.fit(X, Y)\r\n",
        "# Y Prediction\r\n",
        "Y_pred = reg.predict(X)\r\n",
        "\r\n",
        "print('Intercept: \\n', reg.intercept_)\r\n",
        "print('Coefficients: \\n', reg.coef_)\r\n",
        "\r\n",
        "# Model Evaluation\r\n",
        "rmse = np.sqrt(mean_squared_error(Y, Y_pred))\r\n",
        "r2 = reg.score(X, Y)\r\n",
        "\r\n",
        "\r\n",
        "print(\"RMSE\")\r\n",
        "print(rmse)\r\n",
        "print(\"R2 Score\")\r\n",
        "print(r2)\r\n"
      ],
      "execution_count": null,
      "outputs": [
        {
          "output_type": "stream",
          "text": [
            "Intercept: \n",
            " 325.5734210494426\n",
            "Coefficients: \n",
            " [0.26342934]\n",
            "RMSE\n",
            "72.1206213783709\n",
            "R2 Score\n",
            "0.639311719957\n"
          ],
          "name": "stdout"
        }
      ]
    },
    {
      "cell_type": "markdown",
      "metadata": {
        "id": "mxDYEg26c0Bz"
      },
      "source": [
        "# Linear regression with multiple values"
      ]
    },
    {
      "cell_type": "code",
      "metadata": {
        "colab": {
          "base_uri": "https://localhost:8080/"
        },
        "id": "ZspTX7s1dERH",
        "outputId": "b9815cd7-886c-4cef-8761-c8dcca1136be"
      },
      "source": [
        "import numpy as np\r\n",
        "import pandas as pd\r\n",
        "from sklearn import linear_model\r\n",
        "df = pd.read_csv('homeprices.csv') \r\n",
        "df.head()\r\n",
        "import math\r\n",
        "df.bedrooms.median()\r\n",
        "median_bedrooms = math.floor(df.bedrooms.median())\r\n",
        "median_bedrooms\r\n",
        "df.bedrooms = df.bedrooms.fillna(median_bedrooms) # bcz bedroom column m ek value nhi h to phle fill kr rahe h \r\n",
        "# df.bedrooms\r\n",
        "reg = linear_model.LinearRegression()\r\n",
        "reg.fit(df[['area','bedrooms','age']], df.price)#\r\n",
        "reg.coef_\r\n",
        "reg.intercept_\r\n"
      ],
      "execution_count": null,
      "outputs": [
        {
          "output_type": "execute_result",
          "data": {
            "text/plain": [
              "383724.99999999994"
            ]
          },
          "metadata": {
            "tags": []
          },
          "execution_count": 27
        }
      ]
    },
    {
      "cell_type": "code",
      "metadata": {
        "colab": {
          "base_uri": "https://localhost:8080/",
          "height": 461
        },
        "id": "agAhvobGhRs3",
        "outputId": "2068c6f4-6370-498e-d5e3-040de90b7d6c"
      },
      "source": [
        "reg.predict([[3600,3,30]])\r\n",
        "print(3600*137.5 + 3*-26025 + 30*-6825 + 383724.999999)\r\n",
        "reg.predict([[2500,3,5]])\r\n",
        "############data visualization\r\n",
        "import numpy as np\r\n",
        "import pandas as pd\r\n",
        "import matplotlib.pyplot as plt\r\n",
        "from mpl_toolkits.mplot3d import Axes3D\r\n",
        "from sklearn.linear_model import LinearRegression\r\n",
        "from sklearn.metrics import mean_squared_error\r\n",
        "%matplotlib inline\r\n",
        "\r\n",
        "data = pd.read_csv('homeprices.csv')\r\n",
        "print(data.shape)\r\n",
        "data.head()\r\n",
        "\r\n",
        "math = data['area'].values\r\n",
        "read = data['age'].values\r\n",
        "write = data['price'].values\r\n",
        "\r\n",
        "# Ploting the scores as scatter plot\r\n",
        "fig = plt.figure()\r\n",
        "ax = Axes3D(fig)\r\n",
        "ax.scatter(math, read, write, color='#ef1234')\r\n",
        "plt.show()\r\n",
        "\r\n",
        "X = np.array([math, read]).T\r\n",
        "Y = np.array(write)\r\n",
        "\r\n",
        "# Model Intialization\r\n",
        "reg = LinearRegression()\r\n",
        "# Data Fitting\r\n",
        "reg = reg.fit(X, Y)\r\n",
        "# regression coefficient & intercepts\r\n",
        "\r\n",
        "print(reg.coef_)\r\n",
        "print(reg.intercept_)\r\n",
        "\r\n",
        "# Y Prediction\r\n",
        "\r\n",
        "Y_pred = reg.predict(X)\r\n",
        "\r\n",
        "# Model Evaluation\r\n",
        "rmse = np.sqrt(mean_squared_error(Y, Y_pred))\r\n",
        "r2 = reg.score(X, Y)\r\n",
        "\r\n",
        "print(\"RMSE\")\r\n",
        "print(rmse)\r\n",
        "print(\"R2 Score\")\r\n",
        "print(r2)\r\n",
        "\r\n",
        "\r\n",
        "## Prepare the data for Visualization\r\n",
        "\r\n",
        "#x_surf, y_surf = np.meshgrid(np.linspace(math.min(), math.max(), 100)\r\n"
      ],
      "execution_count": null,
      "outputs": [
        {
          "output_type": "stream",
          "text": [
            "595899.999999\n",
            "(5, 4)\n"
          ],
          "name": "stdout"
        },
        {
          "output_type": "display_data",
          "data": {
            "image/png": "[encoded data removed]",
            "text/plain": [
              "<Figure size 432x288 with 1 Axes>"
            ]
          },
          "metadata": {
            "tags": [],
            "needs_background": "light"
          }
        },
        {
          "output_type": "stream",
          "text": [
            "[  118.40231951 -4718.06464295]\n",
            "313509.1685153464\n",
            "RMSE\n",
            "18677.85183943482\n",
            "R2 Score\n",
            "0.9380791357231312\n"
          ],
          "name": "stdout"
        }
      ]
    },
    {
      "cell_type": "markdown",
      "metadata": {
        "id": "WfvN8d0UWlHn"
      },
      "source": [
        "# GRADIENT DECENT ALGORITHM"
      ]
    },
    {
      "cell_type": "code",
      "metadata": {
        "id": "vDSHyMP_hto4"
      },
      "source": [
        "import numpy as np\r\n",
        "import pandas as pd\r\n",
        "import matplotlib.pyplot as plt\r\n",
        "\r\n",
        "class GradientDescentLinearRegression:\r\n",
        "    def __init__(self, learning_rate=0.01 , iterations=1000): # init constructor\r\n",
        "        self.learning_rate, self.iterations = learning_rate, iterations # self means member of class bnate h\r\n",
        "    \r\n",
        "    def fit(self, X, y):  # here self is method of class, x is feature, y is target\r\n",
        "        b0 = 0 # variable\r\n",
        "        b1 = 0   # variable\r\n",
        "        n = X.shape[0]\r\n",
        "        for _ in range(self.iterations):  # return parameter  theta0(b0) and thetha1(b1)\r\n",
        "            b0_deri = np.sum(b1*X + b0 - y)/n\r\n",
        "            b1_deri = np.sum(X*((b1*X + b0) - y))/n\r\n",
        "            b0 = b0 - (self.learning_rate*b0_deri)\r\n",
        "            b1 = b1 - (self.learning_rate*b1_deri)\r\n",
        "            plt.plot(X,(b0+b1*X))   #  if we want it will display all possible hypothesis(lines) for each pair of parameter\r\n",
        "        self.b0, self.b1 = b0, b1  \r\n",
        "    \r\n",
        "    def predict(self, X):\r\n",
        "        return self.b0 + self.b1*X\r\n",
        "    \r\n",
        "    def rmse(self, X): \r\n",
        "        rmse = 0\r\n",
        "        n = X.shape[0]\r\n",
        "        for i in range(n):\r\n",
        "            y_pred = self.predict(X[i])\r\n",
        "            rmse += (y_pred - y[i])**2\r\n",
        "        rmse = np.sqrt(rmse/n)\r\n",
        "        return rmse\r\n",
        "\r\n",
        "      \r\n"
      ],
      "execution_count": null,
      "outputs": []
    },
    {
      "cell_type": "code",
      "metadata": {
        "colab": {
          "base_uri": "https://localhost:8080/",
          "height": 574
        },
        "id": "I4A6FK_ldHpI",
        "outputId": "c8688375-c03c-4a80-b3e7-7bd728fff5b3"
      },
      "source": [
        "df  = pd.read_csv(\"headbrain.csv\")\r\n",
        "#collecting X and y\r\n",
        "X= df['Head Size(cm^3)'].values/1000\r\n",
        "y = df['Brain Weight(grams)'].values/1000\r\n",
        "obj = GradientDescentLinearRegression() # object create of class\r\n",
        "print(df)\r\n",
        "obj.fit(X,y) # fit method call kiya to trsin the data\r\n",
        "print(obj.predict(3777))\r\n",
        "print(obj.rmse(X))\r\n",
        "plt.plot(X,obj.predict(X))\r\n",
        "plt.scatter(X,y,color='red')\r\n",
        "\r\n"
      ],
      "execution_count": null,
      "outputs": [
        {
          "output_type": "stream",
          "text": [
            "     Gender  Age Range  Head Size(cm^3)  Brain Weight(grams)\n",
            "0         1          1             4512                 1530\n",
            "1         1          1             3738                 1297\n",
            "2         1          1             4261                 1335\n",
            "3         1          1             3777                 1282\n",
            "4         1          1             4177                 1590\n",
            "..      ...        ...              ...                  ...\n",
            "232       2          2             3214                 1110\n",
            "233       2          2             3394                 1215\n",
            "234       2          2             3233                 1104\n",
            "235       2          2             3352                 1170\n",
            "236       2          2             3391                 1120\n",
            "\n",
            "[237 rows x 4 columns]\n",
            "1216.7646240799043\n",
            "0.07525305106962135\n"
          ],
          "name": "stdout"
        },
        {
          "output_type": "execute_result",
          "data": {
            "text/plain": [
              "<matplotlib.collections.PathCollection at 0x7fb1b76c1890>"
            ]
          },
          "metadata": {
            "tags": []
          },
          "execution_count": 34
        },
        {
          "output_type": "display_data",
          "data": {
            "image/png": "[encoded data removed]",
            "text/plain": [
              "<Figure size 432x288 with 1 Axes>"
            ]
          },
          "metadata": {
            "tags": [],
            "needs_background": "light"
          }
        }
      ]
    }
  ]
}