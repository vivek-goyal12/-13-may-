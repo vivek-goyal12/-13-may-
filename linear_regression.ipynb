{
  "nbformat": 4,
  "nbformat_minor": 0,
  "metadata": {
    "colab": {
      "name": "linear regression.ipynb",
      "provenance": [],
      "collapsed_sections": [],
      "authorship_tag": "ABX9TyOhBi2y9bnw8HPKNJbbBMRg",
      "include_colab_link": true
    },
    "kernelspec": {
      "name": "python3",
      "display_name": "Python 3"
    }
  },
  "cells": [
    {
      "cell_type": "markdown",
      "metadata": {
        "id": "view-in-github",
        "colab_type": "text"
      },
      "source": [
        "<a href=\"https://colab.research.google.com/github/vivek-goyal12/-13-may-/blob/master/linear_regression.ipynb\" target=\"_parent\"><img src=\"https://colab.research.google.com/assets/colab-badge.svg\" alt=\"Open In Colab\"/></a>"
      ]
    },
    {
      "cell_type": "code",
      "metadata": {
        "id": "k3eGpLqqVT9V"
      },
      "source": [
        "\r\n",
        "import numpy as np\r\n",
        "import pandas as pd\r\n",
        "import matplotlib.pyplot as plt\r\n"
      ],
      "execution_count": null,
      "outputs": []
    },
    {
      "cell_type": "code",
      "metadata": {
        "colab": {
          "base_uri": "https://localhost:8080/"
        },
        "id": "47hOiFkiZXQn",
        "outputId": "86237c03-4c30-4bac-962d-84ee8802b9cc"
      },
      "source": [
        "#Two Points are given (3, 5) and (9,10)  # practice\r\n",
        "#Find equation of line ? \r\n",
        "def slope_intercept(x1,y1,x2,y2):\r\n",
        "    a = (y2 - y1) / (x2 - x1)\r\n",
        "    b = y1 - a * x1     \r\n",
        "    return a,b\r\n",
        "m,c = slope_intercept(3,5,9,10)\r\n",
        "print(slope_intercept(3,5,9,10))\r\n",
        "print(\"Equation of line : y = {0:.2f}.x + {1}\".format(m,c))\r\n"
      ],
      "execution_count": null,
      "outputs": [
        {
          "output_type": "stream",
          "text": [
            "(0.8333333333333334, 2.5)\n",
            "Equation of line : y = 0.83.x + 2.5\n"
          ],
          "name": "stdout"
        }
      ]
    },
    {
      "cell_type": "code",
      "metadata": {
        "colab": {
          "base_uri": "https://localhost:8080/",
          "height": 282
        },
        "id": "_m1AzVb_ZpSA",
        "outputId": "ce512643-0c51-4add-b31d-5450c8f02616"
      },
      "source": [
        "# X : 2, 3, 5, 9, 7, 11, 10.5\r\n",
        "# Y : 3, 5, 9, 10, 6,5, 11.8, ?\r\n",
        "X =[ 2, 3, 5, 9, 11]\r\n",
        "Y =[ 3, 5, 9, 10, 12 ] \r\n",
        "\r\n",
        "# Ploting Line\r\n",
        "plt.scatter(X,Y,label='Scatter plot')\r\n",
        "plt.plot(X,Y,label='Line')\r\n"
      ],
      "execution_count": null,
      "outputs": [
        {
          "output_type": "execute_result",
          "data": {
            "text/plain": [
              "[<matplotlib.lines.Line2D at 0x7f44b7fb8358>]"
            ]
          },
          "metadata": {
            "tags": []
          },
          "execution_count": 3
        },
        {
          "output_type": "display_data",
          "data": {
            "image/png": "[encoded data removed]",
            "text/plain": [
              "<Figure size 432x288 with 1 Axes>"
            ]
          },
          "metadata": {
            "tags": [],
            "needs_background": "light"
          }
        }
      ]
    },
    {
      "cell_type": "code",
      "metadata": {
        "id": "6BBUxbu7aHyw"
      },
      "source": [
        "# Collecting X and Y\r\n",
        "X = [171,151,124,134,156] #height\r\n",
        "Y = [80,60,45,50,65] #weight\r\n",
        "\r\n"
      ],
      "execution_count": null,
      "outputs": []
    },
    {
      "cell_type": "code",
      "metadata": {
        "id": "hqWN03P0asHg"
      },
      "source": [
        "# Calculating coefficient\r\n",
        "\r\n",
        "# Mean X and Y\r\n",
        "mean_x = np.mean(X)\r\n",
        "mean_y = np.mean(Y)\r\n",
        "\r\n",
        "# Total number of values\r\n",
        "n = len(X)\r\n"
      ],
      "execution_count": null,
      "outputs": []
    },
    {
      "cell_type": "code",
      "metadata": {
        "colab": {
          "base_uri": "https://localhost:8080/"
        },
        "id": "eza7qG1kb3Gp",
        "outputId": "38b20eec-ddc9-40dc-e7e9-fc2edc29af07"
      },
      "source": [
        "# Using the formula to calculate b1 and b0\r\n",
        "numer = 0\r\n",
        "denom = 0\r\n",
        "for i in range(n):\r\n",
        "    numer += (X[i] - mean_x) * (Y[i] - mean_y)\r\n",
        "    denom += (X[i] - mean_x) ** 2\r\n",
        "b1 = numer / denom\r\n",
        "b0 = mean_y - (b1 * mean_x)\r\n",
        "\r\n",
        "# Printing coefficients\r\n",
        "print(\"Coefficients\")\r\n",
        "print(b1, b0)\r\n"
      ],
      "execution_count": null,
      "outputs": [
        {
          "output_type": "stream",
          "text": [
            "Coefficients\n",
            "0.7295010213014298 -47.38255033557046\n"
          ],
          "name": "stdout"
        }
      ]
    },
    {
      "cell_type": "code",
      "metadata": {
        "colab": {
          "base_uri": "https://localhost:8080/"
        },
        "id": "xoQA5JzMckPg",
        "outputId": "419d87a3-8972-4487-d966-45cd27407e1d"
      },
      "source": [
        "#predict the weight of person having height= 130?\r\n",
        "#b1 is slope\r\n",
        "#b0 intercept\r\n",
        "#x= 130\r\n",
        "print(b1)\r\n",
        "print(b0)\r\n",
        "y = b0 + b1*171\r\n",
        "print(y)\r\n"
      ],
      "execution_count": null,
      "outputs": [
        {
          "output_type": "stream",
          "text": [
            "0.7295010213014298\n",
            "-47.38255033557046\n",
            "77.36212430697404\n"
          ],
          "name": "stdout"
        }
      ]
    },
    {
      "cell_type": "code",
      "metadata": {
        "id": "OlbWGx1hky4h"
      },
      "source": [
        ""
      ],
      "execution_count": null,
      "outputs": []
    },
    {
      "cell_type": "code",
      "metadata": {
        "colab": {
          "base_uri": "https://localhost:8080/",
          "height": 279
        },
        "id": "x-tY7U-DcpY0",
        "outputId": "5ce17b50-f53f-4354-9252-5d769d2e1dc5"
      },
      "source": [
        "# Plotting Values and Regression Line\r\n",
        "\r\n",
        "max_x = np.max(X) + 100\r\n",
        "min_x = np.min(X) - 100\r\n",
        "\r\n",
        "# Calculating line values x and y\r\n",
        "x = np.linspace(min_x, max_x,100)\r\n",
        "y =[]\r\n",
        "for i in range(100):\r\n",
        "    y.append(b0 + b1 * x[i])\r\n",
        "#print(y)\r\n",
        "\r\n",
        "# Ploting Line\r\n",
        "plt.plot(x, y, color='#58b970', label='Regression Line')\r\n",
        "# Ploting Scatter Points\r\n",
        "plt.scatter(X, Y, color='#ef5423', label='Scatter Plot')\r\n",
        "\r\n",
        "plt.xlabel('Head Size in cm3')\r\n",
        "plt.ylabel('Brain Weight in grams')\r\n",
        "plt.legend()\r\n",
        "plt.show()\r\n"
      ],
      "execution_count": null,
      "outputs": [
        {
          "output_type": "display_data",
          "data": {
            "image/png": "[encoded data removed]",
            "text/plain": [
              "<Figure size 432x288 with 1 Axes>"
            ]
          },
          "metadata": {
            "tags": [],
            "needs_background": "light"
          }
        }
      ]
    },
    {
      "cell_type": "code",
      "metadata": {
        "colab": {
          "base_uri": "https://localhost:8080/"
        },
        "id": "J6lhYNVSfiWD",
        "outputId": "97ffc889-f3a3-40ad-a564-664c37acaab5"
      },
      "source": [
        "# Calculating Root Mean Squares Error\r\n",
        "rmse = 0\r\n",
        "for i in range(n):\r\n",
        "    y_pred = b0 + b1 * X[i]\r\n",
        "    rmse += (Y[i] - y_pred) ** 2\r\n",
        "rmse = np.sqrt(rmse/n)\r\n",
        "print(\"RMSE\")\r\n",
        "print(rmse)\r\n"
      ],
      "execution_count": null,
      "outputs": [
        {
          "output_type": "stream",
          "text": [
            "RMSE\n",
            "2.02479523402097\n"
          ],
          "name": "stdout"
        }
      ]
    },
    {
      "cell_type": "code",
      "metadata": {
        "colab": {
          "base_uri": "https://localhost:8080/"
        },
        "id": "Ob59T2WxhTMs",
        "outputId": "884a0656-7da5-44a7-9911-40abedff59dc"
      },
      "source": [
        "# Calculating R2 Score\r\n",
        "ss_tot = 0\r\n",
        "ss_res = 0\r\n",
        "for i in range(n):\r\n",
        "    y_pred = b0 + b1 * X[i]\r\n",
        "    ss_tot += (Y[i] - mean_y) ** 2\r\n",
        "    ss_res += (Y[i] - y_pred) ** 2\r\n",
        "r2 = 1 - (ss_res/ss_tot)\r\n",
        "print(\"R2 Score\")\r\n",
        "print(r2)\r\n"
      ],
      "execution_count": null,
      "outputs": [
        {
          "output_type": "stream",
          "text": [
            "R2 Score\n",
            "0.9726680284019065\n"
          ],
          "name": "stdout"
        }
      ]
    },
    {
      "cell_type": "code",
      "metadata": {
        "colab": {
          "base_uri": "https://localhost:8080/"
        },
        "id": "bzU-qlyRhoWJ",
        "outputId": "1d521398-337f-41fa-ee55-22e832f00907"
      },
      "source": [
        "df =  pd.read_csv(\"headbrain.csv\")   # read the data # main model\r\n",
        "print(df)"
      ],
      "execution_count": null,
      "outputs": [
        {
          "output_type": "stream",
          "text": [
            "     Gender  Age Range  Head Size(cm^3)  Brain Weight(grams)\n",
            "0         1          1             4512                 1530\n",
            "1         1          1             3738                 1297\n",
            "2         1          1             4261                 1335\n",
            "3         1          1             3777                 1282\n",
            "4         1          1             4177                 1590\n",
            "..      ...        ...              ...                  ...\n",
            "232       2          2             3214                 1110\n",
            "233       2          2             3394                 1215\n",
            "234       2          2             3233                 1104\n",
            "235       2          2             3352                 1170\n",
            "236       2          2             3391                 1120\n",
            "\n",
            "[237 rows x 4 columns]\n"
          ],
          "name": "stdout"
        }
      ]
    },
    {
      "cell_type": "code",
      "metadata": {
        "id": "G--im8zmi5dq"
      },
      "source": [
        "X  =  df[\"Head Size(cm^3)\"]        # extract the colume wise\r\n",
        "Y =  df[\"Brain Weight(grams)\"]"
      ],
      "execution_count": null,
      "outputs": []
    },
    {
      "cell_type": "code",
      "metadata": {
        "id": "fQMn_azckiDE"
      },
      "source": [
        "# Calculating coefficient\r\n",
        "\r\n",
        "# Mean X and Y\r\n",
        "mean_x = np.mean(X)\r\n",
        "mean_y = np.mean(Y)\r\n",
        "\r\n",
        "# Total number of values\r\n",
        "n = len(X)"
      ],
      "execution_count": null,
      "outputs": []
    },
    {
      "cell_type": "code",
      "metadata": {
        "colab": {
          "base_uri": "https://localhost:8080/"
        },
        "id": "vIRCHLqSkq8y",
        "outputId": "c378d7f9-ddc0-4428-9e81-56d6f3b74d69"
      },
      "source": [
        " #Using the formula to calculate b1 and b0\r\n",
        "numer = 0\r\n",
        "denom = 0\r\n",
        "for i in range(n):\r\n",
        "    numer += (X[i] - mean_x) * (Y[i] - mean_y)\r\n",
        "    denom += (X[i] - mean_x) ** 2\r\n",
        "b1 = numer / denom\r\n",
        "b0 = mean_y - (b1 * mean_x)\r\n",
        "\r\n",
        "# Printing coefficients\r\n",
        "print(\"Coefficients\")\r\n",
        "print(b1, b0)"
      ],
      "execution_count": null,
      "outputs": [
        {
          "output_type": "stream",
          "text": [
            "Coefficients\n",
            "0.26342933948939945 325.57342104944223\n"
          ],
          "name": "stdout"
        }
      ]
    },
    {
      "cell_type": "code",
      "metadata": {
        "colab": {
          "base_uri": "https://localhost:8080/"
        },
        "id": "bi5Dff0Pk0rP",
        "outputId": "3ed3824c-5a58-493c-b5b9-4a6422e335c4"
      },
      "source": [
        "#predict the weight of person having height= 130?\r\n",
        "#b1 is slope\r\n",
        "#b0 intercept\r\n",
        "#x= 130\r\n",
        "print(b1)\r\n",
        "print(b0)\r\n",
        "y = b0 + b1*171\r\n",
        "print(y)"
      ],
      "execution_count": null,
      "outputs": [
        {
          "output_type": "stream",
          "text": [
            "0.26342933948939945\n",
            "325.57342104944223\n",
            "370.6198381021295\n"
          ],
          "name": "stdout"
        }
      ]
    },
    {
      "cell_type": "code",
      "metadata": {
        "colab": {
          "base_uri": "https://localhost:8080/",
          "height": 279
        },
        "id": "Cxx1Tw8jk65N",
        "outputId": "d13b9c8f-fa3b-44c3-8c89-eaa3e4995731"
      },
      "source": [
        "# Plotting Values and Regression Line\r\n",
        "\r\n",
        "max_x = np.max(X) + 100\r\n",
        "min_x = np.min(X) - 100\r\n",
        "\r\n",
        "# Calculating line values x and y\r\n",
        "x = np.linspace(min_x, max_x,100)\r\n",
        "y =[]\r\n",
        "for i in range(100):\r\n",
        "    y.append(b0 + b1 * x[i])\r\n",
        "#print(y)\r\n",
        "\r\n",
        "# Ploting Line\r\n",
        "plt.plot(x, y, color='#58b970', label='Regression Line')\r\n",
        "# Ploting Scatter Points\r\n",
        "plt.scatter(X, Y, color='#ef5423', label='Scatter Plot')\r\n",
        "\r\n",
        "plt.xlabel('Head Size in cm3')\r\n",
        "plt.ylabel('Brain Weight in grams')\r\n",
        "plt.legend()\r\n",
        "plt.show()\r\n"
      ],
      "execution_count": null,
      "outputs": [
        {
          "output_type": "display_data",
          "data": {
            "image/png": "[encoded data removed]",
            "text/plain": [
              "<Figure size 432x288 with 1 Axes>"
            ]
          },
          "metadata": {
            "tags": [],
            "needs_background": "light"
          }
        }
      ]
    },
    {
      "cell_type": "code",
      "metadata": {
        "colab": {
          "base_uri": "https://localhost:8080/"
        },
        "id": "FpAkW_lNlEnJ",
        "outputId": "b4571738-4109-4237-864e-dde0ba83f4b9"
      },
      "source": [
        "# Calculating Root Mean Squares Error     #   it is like to find error \r\n",
        "rmse = 0\r\n",
        "for i in range(n):\r\n",
        "    y_pred = b0 + b1 * X[i]\r\n",
        "    rmse += (Y[i] - y_pred) ** 2\r\n",
        "rmse = np.sqrt(rmse/n)\r\n",
        "print(\"RMSE\")\r\n",
        "print(rmse)\r\n"
      ],
      "execution_count": null,
      "outputs": [
        {
          "output_type": "stream",
          "text": [
            "RMSE\n",
            "72.1206213783709\n"
          ],
          "name": "stdout"
        }
      ]
    },
    {
      "cell_type": "code",
      "metadata": {
        "colab": {
          "base_uri": "https://localhost:8080/"
        },
        "id": "7UiMbwEplK9F",
        "outputId": "22543604-d13a-40a4-e977-e4d2bda8c4e6"
      },
      "source": [
        "# Calculating R2 Score   # it is like accuracy of hypothesis\r\n",
        "ss_tot = 0\r\n",
        "ss_res = 0\r\n",
        "for i in range(n):\r\n",
        "    y_pred = b0 + b1 * X[i]\r\n",
        "    ss_tot += (Y[i] - mean_y) ** 2\r\n",
        "    ss_res += (Y[i] - y_pred) ** 2\r\n",
        "r2 = 1 - (ss_res/ss_tot)\r\n",
        "print(\"R2 Score\")\r\n",
        "print(r2)"
      ],
      "execution_count": null,
      "outputs": [
        {
          "output_type": "stream",
          "text": [
            "R2 Score\n",
            "0.6393117199570003\n"
          ],
          "name": "stdout"
        }
      ]
    },
    {
      "cell_type": "code",
      "metadata": {
        "id": "XlsxkI2MVHJD"
      },
      "source": [
        "i"
      ],
      "execution_count": null,
      "outputs": []
    }
  ]
}